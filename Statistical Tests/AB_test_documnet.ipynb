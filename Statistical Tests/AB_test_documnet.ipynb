{
 "cells": [
  {
   "cell_type": "markdown",
   "metadata": {},
   "source": [
    "در مرحله اول برای بدست اوردن سمپل سایز مورد نیاز باید میزان تغییری که مد نظرمون هست رو مشخص  کنیم\n",
    "<br>.\n",
    "برای این کار به تعیین effect size نیاز داریم\n",
    "<br>\n",
    "با فرض اینکه ما دنبال 20 درصد تغییر توی توتال هستیم. توی کیلیک باید به عدد 11.44 و برای اپلیکیشن باید به عدد 2.13 برسیم"
   ]
  },
  {
   "cell_type": "code",
   "execution_count": 1,
   "metadata": {},
   "outputs": [],
   "source": [
    "# Packages imports\n",
    "import numpy as np\n",
    "import pandas as pd\n",
    "import scipy.stats as stats\n",
    "import statsmodels.stats.api as sms\n",
    "import matplotlib as mpl\n",
    "import matplotlib.pyplot as plt\n",
    "import seaborn as sns\n",
    "from math import ceil\n",
    "from statsmodels.stats.proportion import proportions_ztest, proportion_confint\n",
    "\n",
    "# Some plot styling preferences\n",
    "plt.style.use('seaborn-whitegrid')\n",
    "font = {'family' : 'Helvetica',\n",
    "        'weight' : 'bold',\n",
    "        'size'   : 14}\n",
    "\n",
    "mpl.rc('font', **font)\n"
   ]
  },
  {
   "cell_type": "markdown",
   "metadata": {},
   "source": [
    "20%"
   ]
  },
  {
   "cell_type": "code",
   "execution_count": 10,
   "metadata": {},
   "outputs": [
    {
     "data": {
      "text/plain": [
       "(-0.14908647291202048, -0.06759814124002528)"
      ]
     },
     "execution_count": 10,
     "metadata": {},
     "output_type": "execute_result"
    }
   ],
   "source": [
    "effect_size_click = sms.proportion_effectsize(0.0958, 0.144)    # Calculating effect size based on our expected rates\n",
    "effect_size_app = sms.proportion_effectsize(0.186, 0.213)    # Calculating effect size based on our expected rates\n",
    "effect_size_click, effect_size_app"
   ]
  },
  {
   "cell_type": "code",
   "execution_count": 11,
   "metadata": {},
   "outputs": [
    {
     "name": "stdout",
     "output_type": "stream",
     "text": [
      "706.2527076516642 3435.3192109519846\n"
     ]
    }
   ],
   "source": [
    "required_n_click = sms.NormalIndPower().solve_power(\n",
    "    effect_size_click, \n",
    "    power=0.8, \n",
    "    alpha=0.05, \n",
    "    ratio=1\n",
    "    )                                                  # Calculating sample size needed\n",
    "required_n_app = sms.NormalIndPower().solve_power(\n",
    "    effect_size_app, \n",
    "    power=0.8, \n",
    "    alpha=0.05, \n",
    "    ratio=1\n",
    "    )                                                  # Calculating sample size needed\n",
    "\n",
    "\n",
    "required_n = ceil(required_n_click)                                                    \n",
    "required_n = ceil(required_n_app)                          \n",
    "print(required_n_click, required_n_app)"
   ]
  },
  {
   "cell_type": "markdown",
   "metadata": {},
   "source": [
    "5%"
   ]
  },
  {
   "cell_type": "code",
   "execution_count": 4,
   "metadata": {},
   "outputs": [
    {
     "data": {
      "text/plain": [
       "(-0.014133641549686882, -0.022919957915757294)"
      ]
     },
     "execution_count": 4,
     "metadata": {},
     "output_type": "execute_result"
    }
   ],
   "source": [
    "effect_size_click = sms.proportion_effectsize(0.0958, 0.1)    # Calculating effect size based on our expected rates\n",
    "effect_size_app = sms.proportion_effectsize(0.186, 0.195)    # Calculating effect size based on our expected rates\n",
    "effect_size_click, effect_size_app"
   ]
  },
  {
   "cell_type": "code",
   "execution_count": 5,
   "metadata": {},
   "outputs": [
    {
     "name": "stdout",
     "output_type": "stream",
     "text": [
      "78582.97402923924 29881.95275349891\n"
     ]
    }
   ],
   "source": [
    "required_n_click = sms.NormalIndPower().solve_power(\n",
    "    effect_size_click, \n",
    "    power=0.8, \n",
    "    alpha=0.05, \n",
    "    ratio=1\n",
    "    )                                                  # Calculating sample size needed\n",
    "required_n_app = sms.NormalIndPower().solve_power(\n",
    "    effect_size_app, \n",
    "    power=0.8, \n",
    "    alpha=0.05, \n",
    "    ratio=1\n",
    "    )                                                  # Calculating sample size needed\n",
    "\n",
    "\n",
    "required_n = ceil(required_n_click)                                                    \n",
    "required_n = ceil(required_n_app)                          \n",
    "print(required_n_click, required_n_app)"
   ]
  },
  {
   "cell_type": "markdown",
   "metadata": {},
   "source": [
    "1%"
   ]
  },
  {
   "cell_type": "code",
   "execution_count": 6,
   "metadata": {},
   "outputs": [
    {
     "data": {
      "text/plain": [
       "(-0.0030515402384115875, -0.002567332711370107)"
      ]
     },
     "execution_count": 6,
     "metadata": {},
     "output_type": "execute_result"
    }
   ],
   "source": [
    "effect_size_click = sms.proportion_effectsize(0.0958, 0.0967)    # Calculating effect size based on our expected rates\n",
    "effect_size_app = sms.proportion_effectsize(0.186, 0.187)    # Calculating effect size based on our expected rates\n",
    "effect_size_click, effect_size_app"
   ]
  },
  {
   "cell_type": "code",
   "execution_count": 7,
   "metadata": {},
   "outputs": [
    {
     "name": "stdout",
     "output_type": "stream",
     "text": [
      "1685770.3242548218 2381619.0626956522\n"
     ]
    }
   ],
   "source": [
    "required_n_click = sms.NormalIndPower().solve_power(\n",
    "    effect_size_click, \n",
    "    power=0.8, \n",
    "    alpha=0.05, \n",
    "    ratio=1\n",
    "    )                                                  # Calculating sample size needed\n",
    "required_n_app = sms.NormalIndPower().solve_power(\n",
    "    effect_size_app, \n",
    "    power=0.8, \n",
    "    alpha=0.05, \n",
    "    ratio=1\n",
    "    )                                                  # Calculating sample size needed\n",
    "\n",
    "\n",
    "required_n = ceil(required_n_click)                                                    \n",
    "required_n = ceil(required_n_app)                          \n",
    "print(required_n_click, required_n_app)"
   ]
  },
  {
   "cell_type": "markdown",
   "metadata": {},
   "source": [
    "---"
   ]
  },
  {
   "cell_type": "markdown",
   "metadata": {},
   "source": [
    "p_value"
   ]
  },
  {
   "cell_type": "code",
   "execution_count": 14,
   "metadata": {},
   "outputs": [
    {
     "name": "stdout",
     "output_type": "stream",
     "text": [
      "z statistic for click: -0.03 , z statistic for app: -0.00\n",
      "p-value for click: 0.978 , p-value for app: 0.999\n",
      "ci 95% for A group_click: [0.000, 0.000]\n",
      "ci 95% for B group_click: [0.000, 0.000]\n",
      "ci 95% for A group_App: [0.000, 0.000]\n",
      "ci 95% for B group_App: [0.000, 0.000]\n"
     ]
    }
   ],
   "source": [
    "n_A_click = 601163\n",
    "n_B_Click = 591026\n",
    "\n",
    "n_A_app = 601163\n",
    "n_B_app = 591026\n",
    "\n",
    "successes_click = [9.58, 9.54]\n",
    "successes_app = [1.86, 1.83]\n",
    "\n",
    "nobs_click = [n_A_click, n_B_Click]\n",
    "nobs_app = [n_A_app, n_B_app]\n",
    "\n",
    "z_stat_click, pval_click = proportions_ztest(successes_click, nobs=nobs_click)\n",
    "(lower_A_click, lower_B_click), (upper_A_click, upper_B_click) = proportion_confint(successes_click, nobs=nobs_click, alpha=0.05)\n",
    "\n",
    "z_stat_app, pval_app = proportions_ztest(successes_app, nobs=nobs_app)\n",
    "(lower_A, lower_B), (upper_A, upper_B) = proportion_confint(successes_app, nobs=nobs_app, alpha=0.05)\n",
    "\n",
    "print(f'z statistic for click: {z_stat_click:.2f}',f', z statistic for app: {z_stat_app:.2f}')\n",
    "print(f'p-value for click: {pval_click:.3f}',f', p-value for app: {pval_app:.3f}')\n",
    "print(f'ci 95% for A group_click: [{lower_A:.3f}, {upper_A:.3f}]')\n",
    "print(f'ci 95% for B group_click: [{lower_B:.3f}, {upper_B:.3f}]')\n",
    "print(f'ci 95% for A group_App: [{lower_A:.3f}, {upper_A:.3f}]')\n",
    "print(f'ci 95% for B group_App: [{lower_B:.3f}, {upper_B:.3f}]')"
   ]
  }
 ],
 "metadata": {
  "interpreter": {
   "hash": "7d3589e54bbfd3a4d6eadf3109f0766060347b591e4e6b2dd99c4a0dca9b0a24"
  },
  "kernelspec": {
   "display_name": "Python 3.9.11 ('base')",
   "language": "python",
   "name": "python3"
  },
  "language_info": {
   "codemirror_mode": {
    "name": "ipython",
    "version": 3
   },
   "file_extension": ".py",
   "mimetype": "text/x-python",
   "name": "python",
   "nbconvert_exporter": "python",
   "pygments_lexer": "ipython3",
   "version": "3.9.11"
  },
  "orig_nbformat": 4
 },
 "nbformat": 4,
 "nbformat_minor": 2
}
