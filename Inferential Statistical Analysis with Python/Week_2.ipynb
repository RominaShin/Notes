{
 "cells": [
  {
   "cell_type": "markdown",
   "metadata": {},
   "source": [
    "# Week 2 - confidence intervals"
   ]
  },
  {
   "cell_type": "markdown",
   "metadata": {},
   "source": [
    "## One proportion"
   ]
  },
  {
   "cell_type": "markdown",
   "metadata": {},
   "source": [
    "we looked at a confidence interval as being a best estimate plus or minus our margin of error.  What we said was the best estimate is our unbiased point estimate, which for our case of one proportion that's going to be what we call p-hat (proportion).\n",
    "<br>\n",
    "<br>\n",
    "<img src='2.png' width='700px' height='300px'>\n",
    "<br>\n",
    "we make confidence interval for a <b>parameter</b> not an estimate\n",
    "<br>\n",
    "this is how we can change th percentage of confidence interval\n",
    "<br>\n",
    "<br>\n",
    "<img src='3.png' width='700px' height='300px'>"
   ]
  },
  {
   "cell_type": "markdown",
   "metadata": {},
   "source": [
    "another way to calculate confidence interval is considering sample size, in this method margin of error will be maximized and the interval is greater than before\n",
    "<br>\n",
    "<br>\n",
    "<img src='4.png' width='500px' height='200px'>"
   ]
  },
  {
   "cell_type": "markdown",
   "metadata": {},
   "source": [
    "<b>NOTE:</b> Parameters always correspond to numerical summaries for our entire population not the sample population."
   ]
  },
  {
   "cell_type": "markdown",
   "metadata": {},
   "source": [
    "Background: Information devices, such as smartphones, tablets, laptops, and E-readers, are widely used by Americans today. A survey conducted by Pew Research Center in January of 2018, asked a random sample of Americans to report which of these specific information devices they own. The study revealed that 53% of the Americans who were surveyed own a tablet (based on a random sample of 526 Americans). From these results, the 90% confidence interval for the population proportion of Americans who own a tablet was reported to be (0.4942, 0.5658).  \n",
    "* the value of 53% corresponds Sample Proportion , Estimate of the population proportion and Statistics\n",
    "* as the confidence interval grows, the interval becomes wider\n",
    "* with every new sample we take, we'll get a new confidence interval. We should not state a specific interval in the interpretation of a confidence level.\n",
    "* we must think about our entire interval as it is a range of reasonable values for the true proportion. \n",
    "* not appropriate to say  “We estimate that 53% of all Americans own a tablet with a 90% margin of error of 3.58%.\"\n",
    "* If the researcher would like to have their confidence interval be narrower, more precise, he must Change the confidence level to 90%\n",
    "* Based on the reported 95% confidence interval, does it appear there is a minority of group with proportion of 43%? yes, because the entire interval is below 50%\n",
    "\n"
   ]
  },
  {
   "cell_type": "markdown",
   "metadata": {},
   "source": []
  },
  {
   "cell_type": "markdown",
   "metadata": {},
   "source": []
  },
  {
   "cell_type": "markdown",
   "metadata": {},
   "source": []
  },
  {
   "cell_type": "markdown",
   "metadata": {},
   "source": []
  },
  {
   "cell_type": "markdown",
   "metadata": {},
   "source": []
  },
  {
   "cell_type": "markdown",
   "metadata": {},
   "source": []
  },
  {
   "cell_type": "code",
   "execution_count": null,
   "metadata": {},
   "outputs": [],
   "source": []
  }
 ],
 "metadata": {
  "language_info": {
   "name": "python"
  },
  "orig_nbformat": 4
 },
 "nbformat": 4,
 "nbformat_minor": 2
}
