{
 "cells": [
  {
   "cell_type": "markdown",
   "metadata": {},
   "source": [
    "# Week 1\n",
    "what covered in this week:\n",
    "    <br>\n",
    "    1. descision making and testing theories\n",
    "    <br>\n",
    "    2. bayesian  and frequentist statistics\n",
    "    <br>\n",
    "    3. Confidence Interval\n",
    "    <br>\n",
    "    4. Hands-On"
   ]
  },
  {
   "cell_type": "markdown",
   "metadata": {},
   "source": [
    "##  1.\n",
    "* significance level or alpha\n",
    "* p_value: \n",
    "<br>\n",
    "defenition: To make sure that you wouldn’t evaluate an experiment based on random results.\n",
    "<br>\n",
    "formula : the probability that random chance generated the data + or something else that is equal +  or rarer. sample with value of the mean has p-value =1\n",
    "<br>\n",
    "Now, we have decided to go with our rule of $50 or more. Picking that rule, that cut-off of $50 or more is effectively picking our significance level right up front. We're deciding that the significance level is going to be set at 10 percent. The results that we get from our data have to be so unusual that they would occur 10 percent of the time or less, and then I would reject the null. Often, rather than stating the decision in terms of the values of the actual response and having to consider that for every different background, we instead take a look at picking the elf that we'd like to have right up front, that probability of a type one error being set, and then we look at our data and calculate a probability from it, that probably being the p-value. How likely is it to get the result you got or more extreme?\n",
    "<br>\n",
    "Once you've made a decision though, there either is a correct decision that was just made or an error. No more probability about those mistakes being made, it's either right or wrong. Now, from the p-value approach, we will be looking at the value we got, 40 and we'd be calculating how likely is it to get that value or something more extreme if the null theory were really true. How compatible is this result with that null theory?\n",
    "p_value < alpha --> then the hypothesis is rejected\n",
    "<br>\n",
    "<br>\n",
    "----\n",
    "<img src='1.png'>"
   ]
  },
  {
   "cell_type": "markdown",
   "metadata": {},
   "source": [
    "## 2\n",
    "suppose the football game in world cup 2018:\n",
    "*  in frequentist statistics is because the game has already been played, we already know the answer. Your answer is either correct or incorrect. You either have a zero percent chance of getting it right or a 100 percent chance. Any number that you assign in between can only be given in the Bayesian framework. \n",
    "* you know that each team started with about a three percent chance of winning. However, you might also know that Germany tends to do fairly well, and so you might want to up-weight their probability. Maybe not say three percent chance, but say a five percent chance. You'll have to take that probability away from another team of winning. The big idea here is that in frequentist statistics, you can make those updates and those calculations before the games are played. However, once any of the games are played, this isn't allowed anymore. But in Bayesian statistics, you can update that as long as you don't know the answer."
   ]
  },
  {
   "cell_type": "markdown",
   "metadata": {},
   "source": [
    "## 3.\n",
    "* one way to define confidence interval is bootstaping. we measure n samples( with duplicate) certain times randomly and calculate their means.\n",
    "* 95% confidence interval in testings means: the interval(بازه) which 95 % of calculated means above is covered by.\n",
    "* because the interval covers 95% of the means, any value outside this interval happens less than 5% of the time. in other words, the p-value of any thing outside the confidence interval is less than 0.05 and significantly different.\n",
    "* in a/b testings, if the confidence interval of two groups doesn't overlap they are significantly different, as their overlap becomes greater it becomes harder to say they are significantly different and t-tests become necessary.\n"
   ]
  },
  {
   "cell_type": "markdown",
   "metadata": {},
   "source": [
    "## 4.\n",
    "* use arrays when you need to perform an operation on all of values in a list"
   ]
  },
  {
   "cell_type": "code",
   "execution_count": 8,
   "metadata": {},
   "outputs": [],
   "source": [
    "import numpy as np\n",
    "import pandas as pd\n",
    "import matplotlib.pyplot as plt\n",
    "import seaborn as sns\n",
    "import random"
   ]
  },
  {
   "cell_type": "code",
   "execution_count": 5,
   "metadata": {},
   "outputs": [
    {
     "data": {
      "text/plain": [
       "<seaborn.axisgrid.FacetGrid at 0x252b5157310>"
      ]
     },
     "execution_count": 5,
     "metadata": {},
     "output_type": "execute_result"
    },
    {
     "data": {
      "image/png": "[encoded data removed]",
      "text/plain": [
       "<Figure size 360x360 with 1 Axes>"
      ]
     },
     "metadata": {
      "needs_background": "light"
     },
     "output_type": "display_data"
    }
   ],
   "source": [
    "df = sns.load_dataset('tips')\n",
    "sns.displot(df['tip'],bins = 10)"
   ]
  },
  {
   "cell_type": "code",
   "execution_count": 7,
   "metadata": {},
   "outputs": [
    {
     "name": "stderr",
     "output_type": "stream",
     "text": [
      "C:\\Users\\Romina\\anaconda3\\lib\\site-packages\\seaborn\\_decorators.py:36: FutureWarning: Pass the following variable as a keyword arg: x. From version 0.12, the only valid positional argument will be `data`, and passing other arguments without an explicit keyword will result in an error or misinterpretation.\n",
      "  warnings.warn(\n"
     ]
    },
    {
     "data": {
      "text/plain": [
       "<AxesSubplot:xlabel='total_bill'>"
      ]
     },
     "execution_count": 7,
     "metadata": {},
     "output_type": "execute_result"
    },
    {
     "data": {
      "image/png": "[encoded data removed]",
      "text/plain": [
       "<Figure size 432x288 with 1 Axes>"
      ]
     },
     "metadata": {
      "needs_background": "light"
     },
     "output_type": "display_data"
    }
   ],
   "source": [
    "sns.boxplot(df['total_bill'])"
   ]
  },
  {
   "cell_type": "code",
   "execution_count": 11,
   "metadata": {},
   "outputs": [
    {
     "data": {
      "text/plain": [
       "(-0.015053060868934333, 0.4639750691214999)"
      ]
     },
     "execution_count": 11,
     "metadata": {},
     "output_type": "execute_result"
    }
   ],
   "source": [
    "#produce a normal distribution\n",
    "mu = 0\n",
    "sigma = 1\n",
    "random.normalvariate(mu, sigma) , random.uniform(mu, sigma)"
   ]
  },
  {
   "cell_type": "code",
   "execution_count": 12,
   "metadata": {},
   "outputs": [
    {
     "data": {
      "text/plain": [
       "[<matplotlib.lines.Line2D at 0x252b9466d90>]"
      ]
     },
     "execution_count": 12,
     "metadata": {},
     "output_type": "execute_result"
    },
    {
     "data": {
      "image/png": "[encoded data removed]",
      "text/plain": [
       "<Figure size 432x288 with 1 Axes>"
      ]
     },
     "metadata": {
      "needs_background": "light"
     },
     "output_type": "display_data"
    }
   ],
   "source": [
    "x = np.linspace(-np.pi, np.pi, 100) # create a list of 100 equally spaced points between -pi and pi\n",
    "y = [np.sin(value) for value in x] \n",
    "plt.plot(x,y)"
   ]
  },
  {
   "cell_type": "code",
   "execution_count": 14,
   "metadata": {},
   "outputs": [
    {
     "data": {
      "text/plain": [
       "array([2. , 1.5, 1. ])"
      ]
     },
     "execution_count": 14,
     "metadata": {},
     "output_type": "execute_result"
    }
   ],
   "source": [
    "np.array([4,3,2])/2"
   ]
  },
  {
   "cell_type": "code",
   "execution_count": 15,
   "metadata": {},
   "outputs": [
    {
     "data": {
      "text/plain": [
       "6"
      ]
     },
     "execution_count": 15,
     "metadata": {},
     "output_type": "execute_result"
    }
   ],
   "source": [
    "(lambda x:x+3)(3)"
   ]
  },
  {
   "cell_type": "code",
   "execution_count": null,
   "metadata": {},
   "outputs": [],
   "source": []
  }
 ],
 "metadata": {
  "interpreter": {
   "hash": "7d3589e54bbfd3a4d6eadf3109f0766060347b591e4e6b2dd99c4a0dca9b0a24"
  },
  "kernelspec": {
   "display_name": "Python 3.9.11 ('base')",
   "language": "python",
   "name": "python3"
  },
  "language_info": {
   "codemirror_mode": {
    "name": "ipython",
    "version": 3
   },
   "file_extension": ".py",
   "mimetype": "text/x-python",
   "name": "python",
   "nbconvert_exporter": "python",
   "pygments_lexer": "ipython3",
   "version": "3.9.11"
  },
  "orig_nbformat": 4
 },
 "nbformat": 4,
 "nbformat_minor": 2
}
